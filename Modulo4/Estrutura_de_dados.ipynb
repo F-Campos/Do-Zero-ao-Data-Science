{
 "cells": [
  {
   "cell_type": "markdown",
   "metadata": {},
   "source": [
    "# Estruturas de Controle"
   ]
  },
  {
   "cell_type": "markdown",
   "metadata": {},
   "source": [
    "1. listas"
   ]
  },
  {
   "cell_type": "code",
   "execution_count": 13,
   "metadata": {},
   "outputs": [
    {
     "name": "stdout",
     "output_type": "stream",
     "text": [
      "['seja', 1, 'cientista', 10, 40, [10, 'dua', 32, 'dfa', 'sfa'], 50]\n"
     ]
    }
   ],
   "source": [
    "# Estruturas de Dados - Lista\n",
    "\n",
    "#a = [ 2, 3, 4, 5, 6, 7] -> Valores\n",
    "# [ 0, 1, 2, 3, 4, 5] -> Posicoes\n",
    "\n",
    "# Lista de Numeros\n",
    "\n",
    "a = [ 2, 3, 4, 5, 6, 7]\n",
    "\n",
    "# Lista de String\n",
    "b = ['seja', 'um', 'cientista', 'de', 'dados']\n",
    "\n",
    "# Lista de String + numeros\n",
    "\n",
    "c = ['seja', 1, 'cientista', 10, [ 10, 'dua', 32, 'dfa', 'sfa'] ]\n",
    "\n",
    "# Como adicionar um novo elemento na lista\n",
    "\n",
    "c.append( 50 ) # Sempre coloca o elemento no final da lista\n",
    "c.insert( 4, 40 ) # Sempre colocar o elemento na posicao desejada ( posicao,elemento )\n",
    "\n",
    "# Como medir o tamanho da lista\n",
    "print( c )\n",
    "len( c )\n",
    "\n",
    "# Criar uma lista vazia\n",
    "d = []"
   ]
  },
  {
   "cell_type": "code",
   "execution_count": 14,
   "metadata": {},
   "outputs": [
    {
     "data": {
      "text/plain": [
       "[]"
      ]
     },
     "execution_count": 14,
     "metadata": {},
     "output_type": "execute_result"
    }
   ],
   "source": [
    "d"
   ]
  },
  {
   "cell_type": "markdown",
   "metadata": {},
   "source": [
    "2. Estrutura de controle - Condicional"
   ]
  },
  {
   "cell_type": "code",
   "execution_count": 15,
   "metadata": {},
   "outputs": [],
   "source": [
    "# Condicionais que nos temos:\n",
    "# Igual\n",
    "# Maior\n",
    "# Maior ou igual\n",
    "# Menor\n",
    "# Menor ou igual"
   ]
  },
  {
   "cell_type": "code",
   "execution_count": 16,
   "metadata": {},
   "outputs": [],
   "source": [
    "import pandas as pd"
   ]
  },
  {
   "cell_type": "code",
   "execution_count": 17,
   "metadata": {},
   "outputs": [],
   "source": [
    "data = pd.read_csv('/kc_house_data.csv')"
   ]
  },
  {
   "cell_type": "code",
   "execution_count": 18,
   "metadata": {},
   "outputs": [
    {
     "data": {
      "text/html": [
       "<div>\n",
       "<style scoped>\n",
       "    .dataframe tbody tr th:only-of-type {\n",
       "        vertical-align: middle;\n",
       "    }\n",
       "\n",
       "    .dataframe tbody tr th {\n",
       "        vertical-align: top;\n",
       "    }\n",
       "\n",
       "    .dataframe thead th {\n",
       "        text-align: right;\n",
       "    }\n",
       "</style>\n",
       "<table border=\"1\" class=\"dataframe\">\n",
       "  <thead>\n",
       "    <tr style=\"text-align: right;\">\n",
       "      <th></th>\n",
       "      <th>id</th>\n",
       "      <th>date</th>\n",
       "      <th>price</th>\n",
       "      <th>bedrooms</th>\n",
       "      <th>bathrooms</th>\n",
       "      <th>sqft_living</th>\n",
       "      <th>sqft_lot</th>\n",
       "      <th>floors</th>\n",
       "      <th>waterfront</th>\n",
       "      <th>view</th>\n",
       "      <th>...</th>\n",
       "      <th>grade</th>\n",
       "      <th>sqft_above</th>\n",
       "      <th>sqft_basement</th>\n",
       "      <th>yr_built</th>\n",
       "      <th>yr_renovated</th>\n",
       "      <th>zipcode</th>\n",
       "      <th>lat</th>\n",
       "      <th>long</th>\n",
       "      <th>sqft_living15</th>\n",
       "      <th>sqft_lot15</th>\n",
       "    </tr>\n",
       "  </thead>\n",
       "  <tbody>\n",
       "  </tbody>\n",
       "</table>\n",
       "<p>0 rows × 21 columns</p>\n",
       "</div>"
      ],
      "text/plain": [
       "Empty DataFrame\n",
       "Columns: [id, date, price, bedrooms, bathrooms, sqft_living, sqft_lot, floors, waterfront, view, condition, grade, sqft_above, sqft_basement, yr_built, yr_renovated, zipcode, lat, long, sqft_living15, sqft_lot15]\n",
       "Index: []\n",
       "\n",
       "[0 rows x 21 columns]"
      ]
     },
     "execution_count": 18,
     "metadata": {},
     "output_type": "execute_result"
    }
   ],
   "source": [
    "# Logicas E ( AND )\n",
    "# Logica de Multiplicacao\n",
    "\n",
    "# Bedrooms | Floors\n",
    "# TRUE | TRUE -> Resultado\n",
    "# TRUE | FALSE -> ERRO\n",
    "# FALSE | TRUE -> ERRO\n",
    "# FALSE | FALSE -> ERRO\n",
    "\n",
    "# TRUE & TRUE\n",
    "#df = data[(data['bedrooms'] == 4) & ( data['floors'] == 2 )]\n",
    "\n",
    "# TRUE & FALSE\n",
    "#df = data[(data['bedrooms'] == 4) & ( data['floors'] == 20 )]\n",
    "\n",
    "# FALSE & TRUE\n",
    "#df = data[(data['bedrooms'] == 50) & ( data['floors'] == 2 )]\n",
    "\n",
    "# FALSE & FALSE\n",
    "df = data[(data['bedrooms'] == 50) & ( data['floors'] == 20 )]\n",
    "df.head()"
   ]
  },
  {
   "cell_type": "code",
   "execution_count": 19,
   "metadata": {},
   "outputs": [],
   "source": [
    "# Logicas OU ( OR )\n",
    "# Logica de Soma\n",
    "\n",
    "# Bedrooms | Floors\n",
    "# TRUE | TRUE -> Resultado\n",
    "# TRUE | FALSE -> Resultado\n",
    "# FALSE | TRUE -> Resultado\n",
    "# FALSE | FALSE -> ERRO\n",
    "\n",
    "# TRUE & TRUE\n",
    "#df = data[(data['bedrooms'] == 4) | ( data['floors'] == 2 )]\n",
    "\n",
    "# TRUE & FALSE\n",
    "#df = data[(data['bedrooms'] == 4) | ( data['floors'] == 20 )]\n",
    "\n",
    "# FALSE & TRUE\n",
    "#df = data[(data['bedrooms'] == 50) | ( data['floors'] == 2 )]\n",
    "\n",
    "# FALSE & FALSE\n",
    "#df = data[(data['bedrooms'] == 50) | ( data['floors'] == 20 )]\n",
    "#df.head()"
   ]
  },
  {
   "cell_type": "markdown",
   "metadata": {},
   "source": [
    "3 Laco FOR"
   ]
  },
  {
   "cell_type": "code",
   "execution_count": 10,
   "metadata": {},
   "outputs": [],
   "source": [
    "# LOOP FOR\n",
    "for i in range( 0, len( data ) ):\n",
    "    if (data.loc[i, 'price'] > 0) & ( data.loc[i, 'price'] < 321950):\n",
    "        data.loc[i, 'nivel'] = 'nivel_0'\n",
    "        \n",
    "    elif (data.loc[i, 'price'] >= 321950) & ( data.loc[i, 'price'] < 450000):\n",
    "        data.loc[i, 'nivel'] = 'nivel_1'\n",
    "        \n",
    "    elif (data.loc[i, 'price'] >= 450000) & ( data.loc[i, 'price'] < 645000):\n",
    "        data.loc[i, 'nivel'] = 'nivel_2'\n",
    "        \n",
    "    else:\n",
    "        data.loc[i, 'nivel'] = 'nivel_3'"
   ]
  },
  {
   "cell_type": "code",
   "execution_count": null,
   "metadata": {},
   "outputs": [],
   "source": [
    "#1. Qual a quantidade de imóveis por nível?\n",
    "# - Nivel 0: Preço entre R$ 0.00 e R$ 321.950\n",
    "# - Nivel 1: Preço entre R$ 321.950 e R$ 450.000\n",
    "# - Nivel 2: Preço entre R$ 450.000 e R$ 645.000\n",
    "# - Nivel 3: Preço acima de R$ 645.000\n",
    "\n",
    "data = pd.read_csv('/kc_house_data.csv')\n",
    "\n",
    "data['nivel'] = NA\n",
    "data.loc[data[(data['price'] >= 0) & (data['price'] < 321950)], 'nivel'] ='nivel_0'\n",
    "data.loc[data[(data['price'] >= 321950) & (data['price'] < 450000)], 'nivel'] = 'nivel_1'\n",
    "data.loc[data[(data['price'] >= 450000) & (data['price'] < 645000)], 'nivel'] ='nivel_2'\n",
    "data.loc[data[(data['price'] >= 645000)], 'nivel'] = 'nivel_3'"
   ]
  },
  {
   "cell_type": "code",
   "execution_count": null,
   "metadata": {},
   "outputs": [],
   "source": [
    "#1. Qual a quantidade de imóveis por nível?\n",
    "# - Nivel 0: Preço entre R$ 0.00 e R$ 321.950\n",
    "# - Nivel 1: Preço entre R$ 321.950 e R$ 450.000\n",
    "# - Nivel 2: Preço entre R$ 450.000 e R$ 645.000\n",
    "# - Nivel 3: Preço acima de R$ 645.000\n",
    "\n",
    "data = pd.read_csv('/kc_house_data.csv')\n",
    "\n",
    "data['nivel'] = NA\n",
    "data.loc[data[(data['price'] >= 0) & (data['price'] < 321950)], 'nivel'] ='nivel_0'\n",
    "data.loc[data[(data['price'] >= 321950) & (data['price'] < 450000)], 'nivel'] = 'nivel_1'\n",
    "data.loc[data[(data['price'] >= 450000) & (data['price'] < 645000)], 'nivel'] ='nivel_2'\n",
    "data.loc[data[(data['price'] >= 645000)], 'nivel'] = 'nivel_3'"
   ]
  },
  {
   "cell_type": "code",
   "execution_count": 21,
   "metadata": {},
   "outputs": [
    {
     "data": {
      "text/html": [
       "<div>\n",
       "<style scoped>\n",
       "    .dataframe tbody tr th:only-of-type {\n",
       "        vertical-align: middle;\n",
       "    }\n",
       "\n",
       "    .dataframe tbody tr th {\n",
       "        vertical-align: top;\n",
       "    }\n",
       "\n",
       "    .dataframe thead th {\n",
       "        text-align: right;\n",
       "    }\n",
       "</style>\n",
       "<table border=\"1\" class=\"dataframe\">\n",
       "  <thead>\n",
       "    <tr style=\"text-align: right;\">\n",
       "      <th></th>\n",
       "      <th>id</th>\n",
       "      <th>date</th>\n",
       "      <th>price</th>\n",
       "      <th>bedrooms</th>\n",
       "      <th>bathrooms</th>\n",
       "      <th>sqft_living</th>\n",
       "      <th>sqft_lot</th>\n",
       "      <th>floors</th>\n",
       "      <th>waterfront</th>\n",
       "      <th>view</th>\n",
       "      <th>...</th>\n",
       "      <th>grade</th>\n",
       "      <th>sqft_above</th>\n",
       "      <th>sqft_basement</th>\n",
       "      <th>yr_built</th>\n",
       "      <th>yr_renovated</th>\n",
       "      <th>zipcode</th>\n",
       "      <th>lat</th>\n",
       "      <th>long</th>\n",
       "      <th>sqft_living15</th>\n",
       "      <th>sqft_lot15</th>\n",
       "    </tr>\n",
       "  </thead>\n",
       "  <tbody>\n",
       "    <tr>\n",
       "      <th>0</th>\n",
       "      <td>7129300520</td>\n",
       "      <td>20141013T000000</td>\n",
       "      <td>221900.0</td>\n",
       "      <td>3</td>\n",
       "      <td>1.00</td>\n",
       "      <td>1180</td>\n",
       "      <td>5650</td>\n",
       "      <td>1.0</td>\n",
       "      <td>0</td>\n",
       "      <td>0</td>\n",
       "      <td>...</td>\n",
       "      <td>7</td>\n",
       "      <td>1180</td>\n",
       "      <td>0</td>\n",
       "      <td>1955</td>\n",
       "      <td>0</td>\n",
       "      <td>98178</td>\n",
       "      <td>47.5112</td>\n",
       "      <td>-122.257</td>\n",
       "      <td>1340</td>\n",
       "      <td>5650</td>\n",
       "    </tr>\n",
       "    <tr>\n",
       "      <th>1</th>\n",
       "      <td>6414100192</td>\n",
       "      <td>20141209T000000</td>\n",
       "      <td>538000.0</td>\n",
       "      <td>3</td>\n",
       "      <td>2.25</td>\n",
       "      <td>2570</td>\n",
       "      <td>7242</td>\n",
       "      <td>2.0</td>\n",
       "      <td>0</td>\n",
       "      <td>0</td>\n",
       "      <td>...</td>\n",
       "      <td>7</td>\n",
       "      <td>2170</td>\n",
       "      <td>400</td>\n",
       "      <td>1951</td>\n",
       "      <td>1991</td>\n",
       "      <td>98125</td>\n",
       "      <td>47.7210</td>\n",
       "      <td>-122.319</td>\n",
       "      <td>1690</td>\n",
       "      <td>7639</td>\n",
       "    </tr>\n",
       "    <tr>\n",
       "      <th>2</th>\n",
       "      <td>5631500400</td>\n",
       "      <td>20150225T000000</td>\n",
       "      <td>180000.0</td>\n",
       "      <td>2</td>\n",
       "      <td>1.00</td>\n",
       "      <td>770</td>\n",
       "      <td>10000</td>\n",
       "      <td>1.0</td>\n",
       "      <td>0</td>\n",
       "      <td>0</td>\n",
       "      <td>...</td>\n",
       "      <td>6</td>\n",
       "      <td>770</td>\n",
       "      <td>0</td>\n",
       "      <td>1933</td>\n",
       "      <td>0</td>\n",
       "      <td>98028</td>\n",
       "      <td>47.7379</td>\n",
       "      <td>-122.233</td>\n",
       "      <td>2720</td>\n",
       "      <td>8062</td>\n",
       "    </tr>\n",
       "    <tr>\n",
       "      <th>3</th>\n",
       "      <td>2487200875</td>\n",
       "      <td>20141209T000000</td>\n",
       "      <td>604000.0</td>\n",
       "      <td>4</td>\n",
       "      <td>3.00</td>\n",
       "      <td>1960</td>\n",
       "      <td>5000</td>\n",
       "      <td>1.0</td>\n",
       "      <td>0</td>\n",
       "      <td>0</td>\n",
       "      <td>...</td>\n",
       "      <td>7</td>\n",
       "      <td>1050</td>\n",
       "      <td>910</td>\n",
       "      <td>1965</td>\n",
       "      <td>0</td>\n",
       "      <td>98136</td>\n",
       "      <td>47.5208</td>\n",
       "      <td>-122.393</td>\n",
       "      <td>1360</td>\n",
       "      <td>5000</td>\n",
       "    </tr>\n",
       "    <tr>\n",
       "      <th>4</th>\n",
       "      <td>1954400510</td>\n",
       "      <td>20150218T000000</td>\n",
       "      <td>510000.0</td>\n",
       "      <td>3</td>\n",
       "      <td>2.00</td>\n",
       "      <td>1680</td>\n",
       "      <td>8080</td>\n",
       "      <td>1.0</td>\n",
       "      <td>0</td>\n",
       "      <td>0</td>\n",
       "      <td>...</td>\n",
       "      <td>8</td>\n",
       "      <td>1680</td>\n",
       "      <td>0</td>\n",
       "      <td>1987</td>\n",
       "      <td>0</td>\n",
       "      <td>98074</td>\n",
       "      <td>47.6168</td>\n",
       "      <td>-122.045</td>\n",
       "      <td>1800</td>\n",
       "      <td>7503</td>\n",
       "    </tr>\n",
       "  </tbody>\n",
       "</table>\n",
       "<p>5 rows × 21 columns</p>\n",
       "</div>"
      ],
      "text/plain": [
       "           id             date     price  bedrooms  bathrooms  sqft_living  \\\n",
       "0  7129300520  20141013T000000  221900.0         3       1.00         1180   \n",
       "1  6414100192  20141209T000000  538000.0         3       2.25         2570   \n",
       "2  5631500400  20150225T000000  180000.0         2       1.00          770   \n",
       "3  2487200875  20141209T000000  604000.0         4       3.00         1960   \n",
       "4  1954400510  20150218T000000  510000.0         3       2.00         1680   \n",
       "\n",
       "   sqft_lot  floors  waterfront  view  ...  grade  sqft_above  sqft_basement  \\\n",
       "0      5650     1.0           0     0  ...      7        1180              0   \n",
       "1      7242     2.0           0     0  ...      7        2170            400   \n",
       "2     10000     1.0           0     0  ...      6         770              0   \n",
       "3      5000     1.0           0     0  ...      7        1050            910   \n",
       "4      8080     1.0           0     0  ...      8        1680              0   \n",
       "\n",
       "   yr_built  yr_renovated  zipcode      lat     long  sqft_living15  \\\n",
       "0      1955             0    98178  47.5112 -122.257           1340   \n",
       "1      1951          1991    98125  47.7210 -122.319           1690   \n",
       "2      1933             0    98028  47.7379 -122.233           2720   \n",
       "3      1965             0    98136  47.5208 -122.393           1360   \n",
       "4      1987             0    98074  47.6168 -122.045           1800   \n",
       "\n",
       "   sqft_lot15  \n",
       "0        5650  \n",
       "1        7639  \n",
       "2        8062  \n",
       "3        5000  \n",
       "4        7503  \n",
       "\n",
       "[5 rows x 21 columns]"
      ]
     },
     "execution_count": 21,
     "metadata": {},
     "output_type": "execute_result"
    }
   ],
   "source": [
    "data.head()"
   ]
  },
  {
   "cell_type": "markdown",
   "metadata": {},
   "source": [
    "4 Laco WHILE"
   ]
  },
  {
   "cell_type": "code",
   "execution_count": null,
   "metadata": {},
   "outputs": [],
   "source": [
    "import requests as r\n",
    "\n",
    "i = 1\n",
    "dataset = pd.DataFrame()\n",
    "while True:\n",
    "    print( 'page:{}'.format( i ) )\n",
    "    url = 'https://jobs.github.com/positions.json?page={}'.format( i )\n",
    "    response = r.request( 'GET', url )\n",
    "    \n",
    "    if response.json() != []:\n",
    "        data = response.json()[0]\n",
    "        df = pd.DataFrame( data, index=[0] )\n",
    "        \n",
    "        dataset = pd.concat( [ dataset, df], axis=0 )\n",
    "        i = i + 1\n",
    "        \n",
    "        \n",
    "    else:\n",
    "        break"
   ]
  },
  {
   "cell_type": "code",
   "execution_count": null,
   "metadata": {},
   "outputs": [],
   "source": []
  },
  {
   "cell_type": "code",
   "execution_count": null,
   "metadata": {},
   "outputs": [],
   "source": []
  }
 ],
 "metadata": {
  "kernelspec": {
   "display_name": "Python 3",
   "language": "python",
   "name": "python3"
  },
  "language_info": {
   "codemirror_mode": {
    "name": "ipython",
    "version": 3
   },
   "file_extension": ".py",
   "mimetype": "text/x-python",
   "name": "python",
   "nbconvert_exporter": "python",
   "pygments_lexer": "ipython3",
   "version": "3.7.6"
  }
 },
 "nbformat": 4,
 "nbformat_minor": 4
}
