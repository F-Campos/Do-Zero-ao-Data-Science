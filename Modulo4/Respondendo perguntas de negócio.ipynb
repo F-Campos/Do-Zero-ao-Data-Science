{
 "cells": [
  {
   "cell_type": "markdown",
   "metadata": {},
   "source": [
    "# Respondendo as perguntas do CEO"
   ]
  },
  {
   "cell_type": "markdown",
   "metadata": {},
   "source": [
    "1. Qual a média do preço de compra dos imóveis por “Nível”? - Nível 0 -> Preço entre R$ 0\n",
    "e R$ 321.950 - Nível 1 -> Preço entre R$ 321.950 e R$ 450.000 - Nível 2 -> Preço entre R$\n",
    "450.000 e R$ 645.000 - Nível 3 -> Acima de R$ 645.000\n",
    "#\n",
    "2. Qual a média do tamanho da sala de estar dos imóveis por “Size” ? - Size 0 -> Tamanho\n",
    "entre 0 e 1427 sqft - Size 1 -> Tamanho entre 1427 e 1910 sqft - Size 2 -> Tamanho entre\n",
    "1910 e 2550 sqft - Size 3 -> Tamanho acima de 2550 sqft\n",
    "\n",
    "3. Adicione as seguinte informações ao conjunto de dados original: - Place ID: Identificação da\n",
    "localização - OSM Type: Open Street Map type - Country: Nome do País - Country Code:\n",
    "Código do País\n",
    "\n",
    "4. Adicione os seguinte filtros no Mapa: - Tamanho mínimo da área da sala de estar. - Número\n",
    "mínimo de banheiros. - Valor Máximo do Preço. - Tamanho máximo da área do porão. -\n",
    "Filtro das Condições do Imóvel. - Filtro por Ano de Construção.\n",
    "\n",
    "5. Adicione os seguinte filtros no Dashboard: - Filtro por data disponível para compra. - Filtro\n",
    "por ano de renovação. - Filtro se possui vista para a água ou não."
   ]
  },
  {
   "cell_type": "code",
   "execution_count": null,
   "metadata": {},
   "outputs": [],
   "source": []
  }
 ],
 "metadata": {
  "kernelspec": {
   "display_name": "Python 3",
   "language": "python",
   "name": "python3"
  },
  "language_info": {
   "codemirror_mode": {
    "name": "ipython",
    "version": 3
   },
   "file_extension": ".py",
   "mimetype": "text/x-python",
   "name": "python",
   "nbconvert_exporter": "python",
   "pygments_lexer": "ipython3",
   "version": "3.7.6"
  }
 },
 "nbformat": 4,
 "nbformat_minor": 4
}
